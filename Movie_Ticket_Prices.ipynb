{
  "nbformat": 4,
  "nbformat_minor": 0,
  "metadata": {
    "colab": {
      "name": "Movie Ticket Prices",
      "provenance": [],
      "authorship_tag": "ABX9TyMCjQzH10aeAjuO6vdHyci9",
      "include_colab_link": true
    },
    "kernelspec": {
      "name": "python3",
      "display_name": "Python 3"
    },
    "language_info": {
      "name": "python"
    }
  },
  "cells": [
    {
      "cell_type": "markdown",
      "metadata": {
        "id": "view-in-github",
        "colab_type": "text"
      },
      "source": [
        "<a href=\"https://colab.research.google.com/github/shrinithishaurya/issues/blob/master/Movie_Ticket_Prices.ipynb\" target=\"_parent\"><img src=\"https://colab.research.google.com/assets/colab-badge.svg\" alt=\"Open In Colab\"/></a>"
      ]
    },
    {
      "cell_type": "code",
      "execution_count": null,
      "metadata": {
        "colab": {
          "base_uri": "https://localhost:8080/"
        },
        "id": "p5CLOkgOXZIO",
        "outputId": "14f31a37-f00f-4928-8c3c-e069e7691982"
      },
      "outputs": [
        {
          "output_type": "stream",
          "name": "stdout",
          "text": [
            "What is your favorite Character in KotLC? Keefe\n",
            "It's all about the hair!\n"
          ]
        }
      ],
      "source": [
        "name = input(\"What is your favorite Character in KotLC? \")\n",
        "if name == 'Keefe':\n",
        "  print(\"It's all about the hair!\")\n",
        "elif name == 'Fitz':\n",
        "  print(\"You monster!! Disrespectful\")\n",
        "elif name == 'Sophie':\n",
        "  print(\"Adventurous but overthinker!! I like it!\")\n",
        "elif name == 'Biana':\n",
        "  print(\"Pretty and Girly!\")\n",
        "else:\n",
        "  print(\"You have no taste!\")\n"
      ]
    },
    {
      "cell_type": "code",
      "source": [
        "age = int(input(\"What is your child's age to find the most accurate ticket price? \"))\n",
        "if age < 18 and age > 2: \n",
        "  print(\"You will be charged a child price of $8.99 for the movie\")\n",
        "elif age <= 2: \n",
        "  print(\"There will be no price for you infant for the movie.\")\n",
        "else:\n",
        "  print(\"You will pay the full price of $14.99 for the movie.\")"
      ],
      "metadata": {
        "id": "c600SIa9r2F6"
      },
      "execution_count": null,
      "outputs": []
    },
    {
      "cell_type": "code",
      "source": [
        "                                                      "
      ],
      "metadata": {
        "id": "Ynl1er6v8ToM"
      },
      "execution_count": null,
      "outputs": []
    }
  ]
}